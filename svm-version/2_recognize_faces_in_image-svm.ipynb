{
 "cells": [
  {
   "cell_type": "markdown",
   "metadata": {},
   "source": [
    "# Face Recognition in Low Resolution\n",
    "\n",
    "Actually identifies the faces. Before running, be sure you have encoded the faces. If oyu havne't, go back to `step_1_encode_faces` notebook"
   ]
  },
  {
   "cell_type": "markdown",
   "metadata": {},
   "source": [
    "## Import required libraries & initialize functions\n",
    "\n",
    "Be sure to run these first."
   ]
  },
  {
   "cell_type": "code",
   "execution_count": 1,
   "metadata": {},
   "outputs": [
    {
     "ename": "ModuleNotFoundError",
     "evalue": "No module named 'matplotlib'",
     "output_type": "error",
     "traceback": [
      "\u001b[1;31m---------------------------------------------------------------------------\u001b[0m",
      "\u001b[1;31mModuleNotFoundError\u001b[0m                       Traceback (most recent call last)",
      "\u001b[1;32m~\\AppData\\Local\\Temp/ipykernel_12724/2721525171.py\u001b[0m in \u001b[0;36m<module>\u001b[1;34m\u001b[0m\n\u001b[1;32m----> 1\u001b[1;33m \u001b[1;32mfrom\u001b[0m \u001b[0mmatplotlib\u001b[0m \u001b[1;32mimport\u001b[0m \u001b[0mpyplot\u001b[0m \u001b[1;32mas\u001b[0m \u001b[0mplt\u001b[0m\u001b[1;33m\u001b[0m\u001b[1;33m\u001b[0m\u001b[0m\n\u001b[0m\u001b[0;32m      2\u001b[0m \u001b[1;33m\u001b[0m\u001b[0m\n\u001b[0;32m      3\u001b[0m \u001b[1;31m# USAGE\u001b[0m\u001b[1;33m\u001b[0m\u001b[1;33m\u001b[0m\u001b[1;33m\u001b[0m\u001b[0m\n\u001b[0;32m      4\u001b[0m \u001b[1;31m# python recognize_faces_image.py --encodings encodings.pickle --image examples/example_01.png\u001b[0m\u001b[1;33m\u001b[0m\u001b[1;33m\u001b[0m\u001b[1;33m\u001b[0m\u001b[0m\n\u001b[0;32m      5\u001b[0m \u001b[1;33m\u001b[0m\u001b[0m\n",
      "\u001b[1;31mModuleNotFoundError\u001b[0m: No module named 'matplotlib'"
     ]
    }
   ],
   "source": [
    "from matplotlib import pyplot as plt\n",
    "\n",
    "# USAGE\n",
    "# python recognize_faces_image.py --encodings encodings.pickle --image examples/example_01.png \n",
    "\n",
    "# import the necessary packages\n",
    "import face_recognition\n",
    "import pickle\n",
    "import cv2\n",
    "from imutils import paths # to get paths\n",
    "import os\n",
    "import numpy\n",
    "import time\n",
    "import pandas as pd\n",
    "\n",
    "# for cross-functions\n",
    "from cv2 import dnn_superres\n",
    "from matplotlib import pyplot as plt\n",
    "from PIL import Image\n",
    "import warnings\n",
    "\n",
    "def show_image(title, img):\n",
    "      show = img[:,:,::-1] # needed to reverse colour properly. select all the elements on the first axis, all the elements on the seconds, and then the reverse of the elements on the third axis.\n",
    "      plt.imshow(show)\n",
    "      plt.title(title)\n",
    "      plt.show()\n",
    "\n",
    "def optimizeImage(imagePath, modelPath):\n",
    "    # Create an SR object\n",
    "    sr = dnn_superres.DnnSuperResImpl_create()\n",
    "    \n",
    "    # Get model name, get text between '/' & '_'\n",
    "    modelName = modelPath.split('/')[1].split('_')[0].lower()\n",
    "\n",
    "    # Get scale\n",
    "    scale = int(modelPath.split('/')[1].split('_')[1].split('.')[0][1])\n",
    "\n",
    "    # Display the name and scale\n",
    "    # print(\"Model name: \"+ modelName)\n",
    "    # print(\"Model scale: \" + str(modelScale))\n",
    "\n",
    "    # Read image\n",
    "    image = cv2.imread(imagePath)\n",
    "    \n",
    "    # Read the desired model\n",
    "    sr.readModel(modelPath)\n",
    "\n",
    "    # Set the desired model and scale to get correct pre- and post-processing\n",
    "    sr.setModel(modelName, scale)\n",
    "\n",
    "    # Upscale the image\n",
    "    result = sr.upsample(image)\n",
    "\n",
    "    # Save the image (optional)\n",
    "    #cv2.imwrite(\"./examples/upscaled-fsrcnn_x4.jpg\", result)\n",
    "    \n",
    "    return result\n",
    "\n",
    "## for use in bicubic START\n",
    "def scaleImage(imagePath, factor, algorithm):\n",
    "    # Read image\n",
    "    image = Image.open(imagePath)\n",
    "    imgSize = (image.width * factor, image.height * factor)\n",
    "\n",
    "    # Upscale the image\n",
    "    result = image.resize(imgSize, algorithm)\n",
    "\n",
    "    return result\n",
    "\n",
    "# for non-opencv use\n",
    "def display_image(title, img):\n",
    "      plt.imshow(img)\n",
    "      plt.title(title)\n",
    "      plt.show()\n",
    "## for use in bicubic END\n",
    "\n",
    "# detection_mode: # variable for setting detection method, either: 'scale', 'ai', or anything else for 'direct'\n",
    "def recognize_face(detection_mode):\n",
    "    # benchmark time\n",
    "    start_time = time.time()\n",
    "    # variables for detection accuracy\n",
    "    identify_correct = 0\n",
    "    identify_wrong = 0\n",
    "    identify_none = 0\n",
    "\n",
    "    # Load the model\n",
    "    # load the known faces and embeddings\n",
    "    print(\"[INFO] loading encodings...\")\n",
    "    clf = pickle.loads(open(args[\"encodings\"], \"rb\").read())\n",
    "    \n",
    "    for imagePath in imagePaths:\n",
    "        if (detection_mode == \"scale\"):\n",
    "            pil_img = scaleImage(imagePath, 4, Image.BICUBIC)\n",
    "            image = cv2.cvtColor(numpy.array(pil_img), cv2.COLOR_RGB2BGR)\n",
    "            # print(\"scaling\")\n",
    "        elif (detection_mode == \"ai\"):\n",
    "            image = optimizeImage(imagePath, \"models/EDSR_x4.pb\")\n",
    "            # print(\"ai\")\n",
    "        else:\n",
    "            pil_img = scaleImage(imagePath, 4, Image.NEAREST)\n",
    "            image = cv2.cvtColor(numpy.array(pil_img), cv2.COLOR_RGB2BGR)\n",
    "            # print(\"direct\")\n",
    "            \n",
    "        rgb = cv2.cvtColor(image, cv2.COLOR_BGR2RGB)\n",
    "        \n",
    "        # detect the (x, y)-coordinates of the bounding boxes corresponding\n",
    "        # to each face in the input image, then compute the facial embeddings\n",
    "        # for each face\n",
    "        print(\"[INFO] recognizing faces in \", imagePath)\n",
    "        boxes = face_recognition.face_locations(rgb, model=args[\"detection_method\"])\n",
    "        encodings = face_recognition.face_encodings(rgb, boxes)\n",
    "        # initialize the list of names for each face detected\n",
    "        names = []\n",
    "        \n",
    "        for encoding in encodings:\n",
    "            name = \"Unknown\"\n",
    "            name = clf.predict([encoding])[0]\n",
    "            names.append(name)\n",
    "\n",
    "        # loop over the recognized faces\n",
    "        for ((top, right, bottom, left), name) in zip(boxes, names):\n",
    "            # draw the predicted face name on the image\n",
    "            cv2.rectangle(image, (left, top), (right, bottom), (0, 0, 255), 1)\n",
    "            y = top - 15 if top - 15 > 15 else top + 15\n",
    "            print(name)\n",
    "            cv2.putText(image, name, (left, y), cv2.FONT_HERSHEY_SIMPLEX, 1, (0, 255, 0), 2)\n",
    "\n",
    "        # show the output image\n",
    "        # cv2.namedWindow(\"Image\", cv2.WINDOW_NORMAL) \n",
    "        # cv2.imshow(\"Image\", image)\n",
    "        # cv2.waitKey(0)\n",
    "        # cv2.destroyAllWindows()\n",
    "        correctName = [imagePath.split(os.path.sep)[1]] # 0 is root directory, 1 is subfolder (name), 2 is image name\n",
    "        if names == correctName:\n",
    "            print(\"Correct face recognized\")\n",
    "            identify_correct += 1\n",
    "        else:\n",
    "            print(\"Folder name is: \", correctName, \". However, face detected is:\", names)\n",
    "            if names: #implicit booliness\n",
    "                identify_wrong += 1\n",
    "            else:\n",
    "                identify_none += 1\n",
    "        img2 = image[:,:,::-1] # needed to reverse colour properly. select all the elements on the first axis, all the elements on the seconds, and then the reverse of the elements on the third axis.\n",
    "        plt.imshow(img2)\n",
    "        plt.title(imagePath)\n",
    "        plt.show()\n",
    "    \n",
    "    totalPictures = len(imagePaths)\n",
    "    if (totalPictures > 0):\n",
    "        print(\"Summary\")\n",
    "        print(\"==========================\")\n",
    "        print(\"Total pictures\", totalPictures)\n",
    "        print(\"Faces identified correctly: \", identify_correct)\n",
    "        print(\"Faces identified wrongly: \", identify_wrong)\n",
    "        print(\"Faces not identified: \", identify_none)\n",
    "        print(\"Absolute Accuracy (correct / [correct + incorrect + not detected]) * 100%: \")\n",
    "        print(round(identify_correct / (identify_correct + identify_wrong + identify_none), 2) * 100, \"%\")\n",
    "        print(\"Detection Accuracy [(correct + incorrect) / total] * 100%: \")\n",
    "        print(round(((identify_correct + identify_wrong) / totalPictures) * 100, 2), \"%\")\n",
    "        print(\"END, time taken: \", round((time.time() - start_time), 2), \"seconds\")\n",
    "        print(\"Avg. secs. per picture: \", round((time.time() - start_time) / totalPictures, 2), \"seconds\")\n",
    "        print(\"==========================\")\n",
    "    else:\n",
    "        print(\"[INFO] No detections made. No pictures found.\")\n",
    "    \n",
    "args = {}\n",
    "args[\"encodings\"] = \"models/svm-face.pickle\"\n",
    "args[\"dataset\"] = \"./dataset/test\"\n",
    "args[\"detection_method\"] = \"hog\"\n",
    "imagePaths = list(paths.list_images(args[\"dataset\"]))\n",
    "# print(imagePaths)\n",
    "print(\"Arguments set!\")"
   ]
  },
  {
   "cell_type": "code",
   "execution_count": 2,
   "metadata": {},
   "outputs": [
    {
     "name": "stdout",
     "output_type": "stream",
     "text": [
      "Face identification: Direct without any image enhancement\n",
      "=========================================================\n"
     ]
    },
    {
     "ename": "NameError",
     "evalue": "name 'recognize_face' is not defined",
     "output_type": "error",
     "traceback": [
      "\u001b[1;31m---------------------------------------------------------------------------\u001b[0m",
      "\u001b[1;31mNameError\u001b[0m                                 Traceback (most recent call last)",
      "\u001b[1;32m~\\AppData\\Local\\Temp/ipykernel_12724/1150581878.py\u001b[0m in \u001b[0;36m<module>\u001b[1;34m\u001b[0m\n\u001b[0;32m      1\u001b[0m \u001b[0mprint\u001b[0m\u001b[1;33m(\u001b[0m\u001b[1;34m\"Face identification: Direct without any image enhancement\"\u001b[0m\u001b[1;33m)\u001b[0m\u001b[1;33m\u001b[0m\u001b[1;33m\u001b[0m\u001b[0m\n\u001b[0;32m      2\u001b[0m \u001b[0mprint\u001b[0m\u001b[1;33m(\u001b[0m\u001b[1;34m\"=========================================================\"\u001b[0m\u001b[1;33m)\u001b[0m\u001b[1;33m\u001b[0m\u001b[1;33m\u001b[0m\u001b[0m\n\u001b[1;32m----> 3\u001b[1;33m \u001b[0mrecognize_face\u001b[0m\u001b[1;33m(\u001b[0m\u001b[1;34m\"direct\"\u001b[0m\u001b[1;33m)\u001b[0m\u001b[1;33m\u001b[0m\u001b[1;33m\u001b[0m\u001b[0m\n\u001b[0m",
      "\u001b[1;31mNameError\u001b[0m: name 'recognize_face' is not defined"
     ]
    }
   ],
   "source": [
    "print(\"Face identification: Direct without any image enhancement\")\n",
    "print(\"=========================================================\")\n",
    "recognize_face(\"direct\")"
   ]
  },
  {
   "cell_type": "code",
   "execution_count": 3,
   "metadata": {},
   "outputs": [
    {
     "ename": "NameError",
     "evalue": "name 'recognize_face' is not defined",
     "output_type": "error",
     "traceback": [
      "\u001b[1;31m---------------------------------------------------------------------------\u001b[0m",
      "\u001b[1;31mNameError\u001b[0m                                 Traceback (most recent call last)",
      "\u001b[1;32m~\\AppData\\Local\\Temp/ipykernel_12724/3360987843.py\u001b[0m in \u001b[0;36m<module>\u001b[1;34m\u001b[0m\n\u001b[1;32m----> 1\u001b[1;33m \u001b[0mrecognize_face\u001b[0m\u001b[1;33m(\u001b[0m\u001b[1;34m\"scale\"\u001b[0m\u001b[1;33m)\u001b[0m\u001b[1;33m\u001b[0m\u001b[1;33m\u001b[0m\u001b[0m\n\u001b[0m",
      "\u001b[1;31mNameError\u001b[0m: name 'recognize_face' is not defined"
     ]
    }
   ],
   "source": [
    "recognize_face(\"scale\")"
   ]
  },
  {
   "cell_type": "code",
   "execution_count": 4,
   "metadata": {},
   "outputs": [
    {
     "ename": "NameError",
     "evalue": "name 'recognize_face' is not defined",
     "output_type": "error",
     "traceback": [
      "\u001b[1;31m---------------------------------------------------------------------------\u001b[0m",
      "\u001b[1;31mNameError\u001b[0m                                 Traceback (most recent call last)",
      "\u001b[1;32m~\\AppData\\Local\\Temp/ipykernel_12724/954687534.py\u001b[0m in \u001b[0;36m<module>\u001b[1;34m\u001b[0m\n\u001b[1;32m----> 1\u001b[1;33m \u001b[0mrecognize_face\u001b[0m\u001b[1;33m(\u001b[0m\u001b[1;34m\"ai\"\u001b[0m\u001b[1;33m)\u001b[0m\u001b[1;33m\u001b[0m\u001b[1;33m\u001b[0m\u001b[0m\n\u001b[0m",
      "\u001b[1;31mNameError\u001b[0m: name 'recognize_face' is not defined"
     ]
    }
   ],
   "source": [
    "recognize_face(\"ai\")"
   ]
  }
 ],
 "metadata": {
  "kernelspec": {
   "display_name": "Python 3 (ipykernel)",
   "language": "python",
   "name": "python3"
  },
  "language_info": {
   "codemirror_mode": {
    "name": "ipython",
    "version": 3
   },
   "file_extension": ".py",
   "mimetype": "text/x-python",
   "name": "python",
   "nbconvert_exporter": "python",
   "pygments_lexer": "ipython3",
   "version": "3.9.5"
  }
 },
 "nbformat": 4,
 "nbformat_minor": 4
}
