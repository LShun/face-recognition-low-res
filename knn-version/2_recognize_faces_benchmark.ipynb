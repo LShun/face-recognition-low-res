{
 "cells": [
  {
   "cell_type": "markdown",
   "metadata": {},
   "source": [
    "# Face Recognition in Low Resolution\n",
    "\n",
    "Actually identifies the faces. Before running, be sure you have encoded the faces. If you havne't, go back to `step_1_encode_faces` notebook"
   ]
  },
  {
   "cell_type": "markdown",
   "metadata": {},
   "source": [
    "## Step 1: Import required libraries & initialize functions\n",
    "\n",
    "Be sure to run these first."
   ]
  },
  {
   "cell_type": "code",
   "execution_count": 24,
   "metadata": {},
   "outputs": [
    {
     "name": "stdout",
     "output_type": "stream",
     "text": [
      "Ready!\n"
     ]
    }
   ],
   "source": [
    "from matplotlib import pyplot as plt\n",
    "\n",
    "# USAGE\n",
    "# python recognize_faces_image.py --encodings encodings.pickle --image examples/example_01.png \n",
    "\n",
    "# import the necessary packages\n",
    "import face_recognition\n",
    "import pickle\n",
    "import cv2\n",
    "from imutils import paths # to get paths\n",
    "import os\n",
    "import numpy\n",
    "import time\n",
    "import pandas as pd\n",
    "\n",
    "# for cross-functions\n",
    "from cv2 import dnn_superres\n",
    "from matplotlib import pyplot as plt\n",
    "from PIL import Image\n",
    "import warnings\n",
    "\n",
    "def show_image(title, img):\n",
    "      show = img[:,:,::-1] # needed to reverse colour properly. select all the elements on the first axis, all the elements on the seconds, and then the reverse of the elements on the third axis.\n",
    "      plt.imshow(show)\n",
    "      plt.title(title)\n",
    "      plt.show()\n",
    "\n",
    "def optimizeImage(imagePath, modelPath):\n",
    "    # Create an SR object\n",
    "    sr = dnn_superres.DnnSuperResImpl_create()\n",
    "    \n",
    "    # Get model name, get text between '/' & '_'\n",
    "    modelName = modelPath.split('/')[1].split('_')[0].lower()\n",
    "\n",
    "    # Get scale\n",
    "    scale = int(modelPath.split('/')[1].split('_')[1].split('.')[0][1])\n",
    "\n",
    "    # Display the name and scale\n",
    "    # print(\"Model name: \"+ modelName)\n",
    "    # print(\"Model scale: \" + str(modelScale))\n",
    "\n",
    "    # Read image\n",
    "    image = cv2.imread(imagePath)\n",
    "    \n",
    "    # Read the desired model\n",
    "    sr.readModel(modelPath)\n",
    "\n",
    "    # Set the desired model and scale to get correct pre- and post-processing\n",
    "    sr.setModel(modelName, scale)\n",
    "\n",
    "    # Upscale the image\n",
    "    result = sr.upsample(image)\n",
    "\n",
    "    # Save the image (optional)\n",
    "    #cv2.imwrite(\"./examples/upscaled-fsrcnn_x4.jpg\", result)\n",
    "    \n",
    "    return result\n",
    "\n",
    "## for use in bicubic START\n",
    "def scaleImage(imagePath, factor, algorithm):\n",
    "    # Read image\n",
    "    image = Image.open(imagePath)\n",
    "    imgSize = (image.width * factor, image.height * factor)\n",
    "\n",
    "    # Upscale the image\n",
    "    result = image.resize(imgSize, algorithm)\n",
    "\n",
    "    return result\n",
    "\n",
    "# for non-opencv use\n",
    "def display_image(title, img):\n",
    "      plt.imshow(img)\n",
    "      plt.title(title)\n",
    "      plt.show()\n",
    "## for use in bicubic END\n",
    "\n",
    "# detection_mode: # variable for setting detection method, either: 'scale', 'ai', or anything else for 'direct'\n",
    "def recognize_face(detection_mode, dataset):\n",
    "    encodings = \"encodings.pickle\"\n",
    "    detection_method = \"hog\"\n",
    "    imagePaths = list(paths.list_images(dataset))\n",
    "    \n",
    "    # benchmark time\n",
    "    start_time = time.time()\n",
    "    # variables for detection accuracy\n",
    "    identify_correct = 0\n",
    "    identify_wrong = 0\n",
    "    identify_none = 0\n",
    "    count = 0\n",
    "\n",
    "    # load the known faces and embeddings\n",
    "    print(\"[INFO] loading encodings...\")\n",
    "    data = pickle.loads(open(encodings, \"rb\").read())\n",
    "    \n",
    "    if (len(imagePaths) == 0):\n",
    "        print(\"[WARN] No image in \", dataset, \"directory detected, maybe add some pictures first?\")\n",
    "    \n",
    "    for imagePath in imagePaths:\n",
    "        count += 1\n",
    "        print(\"Detecting face \", count, \" out of \", len(imagePaths))\n",
    "        if (detection_mode == \"scale\"):\n",
    "            pil_img = scaleImage(imagePath, 4, Image.BICUBIC)\n",
    "            image = cv2.cvtColor(numpy.array(pil_img), cv2.COLOR_RGB2BGR)\n",
    "            # print(\"scaling\")\n",
    "        elif (detection_mode == \"ai\"):\n",
    "            image = optimizeImage(imagePath, \"models/EDSR_x4.pb\")\n",
    "            # print(\"ai\")\n",
    "        else:\n",
    "            pil_img = scaleImage(imagePath, 4, Image.NEAREST)\n",
    "            image = cv2.cvtColor(numpy.array(pil_img), cv2.COLOR_RGB2BGR)\n",
    "            # print(\"direct\")\n",
    "            \n",
    "        rgb = cv2.cvtColor(image, cv2.COLOR_BGR2RGB)\n",
    "        \n",
    "        # detect the (x, y)-coordinates of the bounding boxes corresponding\n",
    "        # to each face in the input image, then compute the facial embeddings\n",
    "        # for each face\n",
    "        print(\"[INFO] recognizing faces in \", imagePath)\n",
    "        boxes = face_recognition.face_locations(rgb,\n",
    "            model=detection_method)\n",
    "        encodings = face_recognition.face_encodings(rgb, boxes)\n",
    "\n",
    "        # initialize the list of names for each face detected\n",
    "        names = []\n",
    "\n",
    "        # loop over the facial embeddings\n",
    "        for encoding in encodings:\n",
    "            # attempt to match each face in the input image to our known\n",
    "            # encodings\n",
    "            matches = face_recognition.compare_faces(data[\"encodings\"],\n",
    "                encoding)\n",
    "            name = \"Unknown\"\n",
    "            # check to see if we have found a match\n",
    "            if True in matches:\n",
    "                # find the indexes of all matched faces then initialize a\n",
    "                # dictionary to count the total number of times each face\n",
    "                # was matched\n",
    "                matchedIdxs = [i for (i, b) in enumerate(matches) if b]\n",
    "                counts = {}\n",
    "\n",
    "                # loop over the matched indexes and maintain a count for\n",
    "                # each recognized face\n",
    "                for i in matchedIdxs:\n",
    "                    name = data[\"names\"][i]\n",
    "                    counts[name] = counts.get(name, 0) + 1\n",
    "\n",
    "                # determine the recognized face with the largest number of\n",
    "                # votes (note: in the event of an unlikely tie Python will\n",
    "                # select first entry in the dictionary)\n",
    "                name = max(counts, key=counts.get)\n",
    "\n",
    "            # update the list of names\n",
    "            names.append(name)\n",
    "\n",
    "        # loop over the recognized faces\n",
    "        for ((top, right, bottom, left), name) in zip(boxes, names):\n",
    "            # draw the predicted face name on the image\n",
    "            cv2.rectangle(image, (left, top), (right, bottom), (0, 0, 255), 1)\n",
    "            y = top - 15 if top - 15 > 15 else top + 15\n",
    "            cv2.putText(image, name, (left, y), cv2.FONT_HERSHEY_SIMPLEX,\n",
    "                0.25, (0, 255, 0), 1)\n",
    "\n",
    "        # show the output image\n",
    "        # cv2.namedWindow(\"Image\", cv2.WINDOW_NORMAL) \n",
    "        # cv2.imshow(\"Image\", image)\n",
    "        # cv2.waitKey(0)\n",
    "        # cv2.destroyAllWindows()\n",
    "        correctName = [imagePath.split(os.path.sep)[1]] # 0 is root directory, 1 is subfolder (name), 2 is image name\n",
    "        if names == correctName:\n",
    "            print(\"Correct face recognized\")\n",
    "            identify_correct += 1\n",
    "        else:\n",
    "            print(\"Folder name is: \", correctName, \". However, face detected is:\", names)\n",
    "            if names: #implicit booliness\n",
    "                identify_wrong += 1\n",
    "            else:\n",
    "                identify_none += 1\n",
    "        img2 = image[:,:,::-1] # needed to reverse colour properly. select all the elements on the first axis, all the elements on the seconds, and then the reverse of the elements on the third axis.\n",
    "        plt.imshow(img2)\n",
    "        plt.title(imagePath)\n",
    "        plt.show()\n",
    "    \n",
    "    totalPictures = len(imagePaths)\n",
    "    if (totalPictures > 0):\n",
    "        print(\"Summary\")\n",
    "        print(\"==========================\")\n",
    "        print(\"Total pictures\", totalPictures)\n",
    "        print(\"Faces identified correctly: \", identify_correct)\n",
    "        print(\"Faces identified wrongly: \", identify_wrong)\n",
    "        print(\"Faces not identified: \", identify_none)\n",
    "        print(\"Absolute Accuracy (correct / [correct + incorrect + not detected]) * 100%: \")\n",
    "        print(round(identify_correct / (identify_correct + identify_wrong + identify_none), 2) * 100, \"%\")\n",
    "        print(\"Detection Accuracy [(correct + incorrect) / total] * 100%: \")\n",
    "        print(round(((identify_correct + identify_wrong) / totalPictures) * 100, 2), \"%\")\n",
    "        print(\"END, time taken: \", round((time.time() - start_time), 2), \"seconds\")\n",
    "        print(\"Avg. secs. per picture: \", round((time.time() - start_time) / totalPictures, 2), \"seconds\")\n",
    "        print(\"==========================\")\n",
    "    \n",
    "print(\"Ready!\")"
   ]
  },
  {
   "cell_type": "markdown",
   "metadata": {},
   "source": [
    "## Step 2: Pick one of the options below for face identification\n",
    "\n",
    "Click inside the desired code block, then press \"CTRL\" + \"Enter\" key to run it"
   ]
  },
  {
   "cell_type": "markdown",
   "metadata": {},
   "source": [
    "### Option 1: Direct Face Identification\n",
    "\n",
    "- Direct using nearest neighbour.\n",
    "- Image is scaled up 4 times using the `Image.NEAREST` option\n",
    "- Very fast"
   ]
  },
  {
   "cell_type": "code",
   "execution_count": 1,
   "metadata": {
    "scrolled": true
   },
   "outputs": [
    {
     "name": "stdout",
     "output_type": "stream",
     "text": [
      "Face identification: Direct using nearest neighbour\n",
      "=========================================================\n"
     ]
    },
    {
     "ename": "NameError",
     "evalue": "name 'recognize_face' is not defined",
     "output_type": "error",
     "traceback": [
      "\u001b[1;31m---------------------------------------------------------------------------\u001b[0m",
      "\u001b[1;31mNameError\u001b[0m                                 Traceback (most recent call last)",
      "\u001b[1;32m~\\AppData\\Local\\Temp/ipykernel_3388/1873907472.py\u001b[0m in \u001b[0;36m<module>\u001b[1;34m\u001b[0m\n\u001b[0;32m      1\u001b[0m \u001b[0mprint\u001b[0m\u001b[1;33m(\u001b[0m\u001b[1;34m\"Face identification: Direct using nearest neighbour\"\u001b[0m\u001b[1;33m)\u001b[0m\u001b[1;33m\u001b[0m\u001b[1;33m\u001b[0m\u001b[0m\n\u001b[0;32m      2\u001b[0m \u001b[0mprint\u001b[0m\u001b[1;33m(\u001b[0m\u001b[1;34m\"=========================================================\"\u001b[0m\u001b[1;33m)\u001b[0m\u001b[1;33m\u001b[0m\u001b[1;33m\u001b[0m\u001b[0m\n\u001b[1;32m----> 3\u001b[1;33m \u001b[0mrecognize_face\u001b[0m\u001b[1;33m(\u001b[0m\u001b[1;34m\"direct\"\u001b[0m\u001b[1;33m,\u001b[0m \u001b[1;34m\"examples\"\u001b[0m\u001b[1;33m)\u001b[0m\u001b[1;33m\u001b[0m\u001b[1;33m\u001b[0m\u001b[0m\n\u001b[0m",
      "\u001b[1;31mNameError\u001b[0m: name 'recognize_face' is not defined"
     ]
    }
   ],
   "source": [
    "print(\"Face identification: Direct using nearest neighbour\")\n",
    "print(\"=========================================================\")\n",
    "recognize_face(\"direct\", \"examples\")"
   ]
  },
  {
   "cell_type": "code",
   "execution_count": 2,
   "metadata": {
    "scrolled": true
   },
   "outputs": [
    {
     "name": "stdout",
     "output_type": "stream",
     "text": [
      "Face identification: Scalin with bicubic\n",
      "=========================================================\n"
     ]
    },
    {
     "ename": "NameError",
     "evalue": "name 'recognize_face' is not defined",
     "output_type": "error",
     "traceback": [
      "\u001b[1;31m---------------------------------------------------------------------------\u001b[0m",
      "\u001b[1;31mNameError\u001b[0m                                 Traceback (most recent call last)",
      "\u001b[1;32m~\\AppData\\Local\\Temp/ipykernel_3388/141399721.py\u001b[0m in \u001b[0;36m<module>\u001b[1;34m\u001b[0m\n\u001b[0;32m      1\u001b[0m \u001b[0mprint\u001b[0m\u001b[1;33m(\u001b[0m\u001b[1;34m\"Face identification: Scalin with bicubic\"\u001b[0m\u001b[1;33m)\u001b[0m\u001b[1;33m\u001b[0m\u001b[1;33m\u001b[0m\u001b[0m\n\u001b[0;32m      2\u001b[0m \u001b[0mprint\u001b[0m\u001b[1;33m(\u001b[0m\u001b[1;34m\"=========================================================\"\u001b[0m\u001b[1;33m)\u001b[0m\u001b[1;33m\u001b[0m\u001b[1;33m\u001b[0m\u001b[0m\n\u001b[1;32m----> 3\u001b[1;33m \u001b[0mrecognize_face\u001b[0m\u001b[1;33m(\u001b[0m\u001b[1;34m\"scale\"\u001b[0m\u001b[1;33m,\u001b[0m \u001b[1;34m\"examples\"\u001b[0m\u001b[1;33m)\u001b[0m\u001b[1;33m\u001b[0m\u001b[1;33m\u001b[0m\u001b[0m\n\u001b[0m",
      "\u001b[1;31mNameError\u001b[0m: name 'recognize_face' is not defined"
     ]
    }
   ],
   "source": [
    "print(\"Face identification: Scalin with bicubic\")\n",
    "print(\"=========================================================\")\n",
    "recognize_face(\"scale\", \"examples\")"
   ]
  },
  {
   "cell_type": "markdown",
   "metadata": {},
   "source": [
    "### Option 2: Scaling\n",
    "\n",
    "- Uses bicubic scaling to upscale the image 4x\n",
    "- Typically results in much better accuracy compared to option 1\n",
    "- Fast"
   ]
  },
  {
   "cell_type": "code",
   "execution_count": 3,
   "metadata": {},
   "outputs": [
    {
     "name": "stdout",
     "output_type": "stream",
     "text": [
      "Face identification: Scalin with bicubic\n",
      "=========================================================\n"
     ]
    },
    {
     "ename": "NameError",
     "evalue": "name 'recognize_face' is not defined",
     "output_type": "error",
     "traceback": [
      "\u001b[1;31m---------------------------------------------------------------------------\u001b[0m",
      "\u001b[1;31mNameError\u001b[0m                                 Traceback (most recent call last)",
      "\u001b[1;32m~\\AppData\\Local\\Temp/ipykernel_3388/141399721.py\u001b[0m in \u001b[0;36m<module>\u001b[1;34m\u001b[0m\n\u001b[0;32m      1\u001b[0m \u001b[0mprint\u001b[0m\u001b[1;33m(\u001b[0m\u001b[1;34m\"Face identification: Scalin with bicubic\"\u001b[0m\u001b[1;33m)\u001b[0m\u001b[1;33m\u001b[0m\u001b[1;33m\u001b[0m\u001b[0m\n\u001b[0;32m      2\u001b[0m \u001b[0mprint\u001b[0m\u001b[1;33m(\u001b[0m\u001b[1;34m\"=========================================================\"\u001b[0m\u001b[1;33m)\u001b[0m\u001b[1;33m\u001b[0m\u001b[1;33m\u001b[0m\u001b[0m\n\u001b[1;32m----> 3\u001b[1;33m \u001b[0mrecognize_face\u001b[0m\u001b[1;33m(\u001b[0m\u001b[1;34m\"scale\"\u001b[0m\u001b[1;33m,\u001b[0m \u001b[1;34m\"examples\"\u001b[0m\u001b[1;33m)\u001b[0m\u001b[1;33m\u001b[0m\u001b[1;33m\u001b[0m\u001b[0m\n\u001b[0m",
      "\u001b[1;31mNameError\u001b[0m: name 'recognize_face' is not defined"
     ]
    }
   ],
   "source": [
    "print(\"Face identification: Scalin with bicubic\")\n",
    "print(\"=========================================================\")\n",
    "recognize_face(\"scale\", \"examples\")"
   ]
  },
  {
   "cell_type": "markdown",
   "metadata": {},
   "source": [
    "### Option 3: Recognize using AI (EDSR x4)\n",
    "\n",
    "- Try to improve the image using EDSR super-resolution. \n",
    "- Typically, results in better detection accuracy than option 2. Note that \"better\" is subjective. Sometimes, it may miss more faces, but the false-positive also reduces (which means its technically better, because not detecting is better than detecting wrongly).\n",
    "- Very slow"
   ]
  },
  {
   "cell_type": "code",
   "execution_count": 4,
   "metadata": {},
   "outputs": [
    {
     "name": "stdout",
     "output_type": "stream",
     "text": [
      "Face identification: Scalin with EDSR\n",
      "=========================================================\n"
     ]
    },
    {
     "ename": "NameError",
     "evalue": "name 'recognize_face' is not defined",
     "output_type": "error",
     "traceback": [
      "\u001b[1;31m---------------------------------------------------------------------------\u001b[0m",
      "\u001b[1;31mNameError\u001b[0m                                 Traceback (most recent call last)",
      "\u001b[1;32m~\\AppData\\Local\\Temp/ipykernel_3388/4103368953.py\u001b[0m in \u001b[0;36m<module>\u001b[1;34m\u001b[0m\n\u001b[0;32m      1\u001b[0m \u001b[0mprint\u001b[0m\u001b[1;33m(\u001b[0m\u001b[1;34m\"Face identification: Scalin with EDSR\"\u001b[0m\u001b[1;33m)\u001b[0m\u001b[1;33m\u001b[0m\u001b[1;33m\u001b[0m\u001b[0m\n\u001b[0;32m      2\u001b[0m \u001b[0mprint\u001b[0m\u001b[1;33m(\u001b[0m\u001b[1;34m\"=========================================================\"\u001b[0m\u001b[1;33m)\u001b[0m\u001b[1;33m\u001b[0m\u001b[1;33m\u001b[0m\u001b[0m\n\u001b[1;32m----> 3\u001b[1;33m \u001b[0mrecognize_face\u001b[0m\u001b[1;33m(\u001b[0m\u001b[1;34m\"ai\"\u001b[0m\u001b[1;33m,\u001b[0m \u001b[1;34m\"examples\"\u001b[0m\u001b[1;33m)\u001b[0m\u001b[1;33m\u001b[0m\u001b[1;33m\u001b[0m\u001b[0m\n\u001b[0m",
      "\u001b[1;31mNameError\u001b[0m: name 'recognize_face' is not defined"
     ]
    }
   ],
   "source": [
    "print(\"Face identification: Scalin with EDSR\")\n",
    "print(\"=========================================================\")\n",
    "recognize_face(\"ai\", \"examples\")"
   ]
  }
 ],
 "metadata": {
  "kernelspec": {
   "display_name": "Python 3 (ipykernel)",
   "language": "python",
   "name": "python3"
  },
  "language_info": {
   "codemirror_mode": {
    "name": "ipython",
    "version": 3
   },
   "file_extension": ".py",
   "mimetype": "text/x-python",
   "name": "python",
   "nbconvert_exporter": "python",
   "pygments_lexer": "ipython3",
   "version": "3.9.5"
  }
 },
 "nbformat": 4,
 "nbformat_minor": 4
}
