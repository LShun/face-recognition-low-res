{
 "cells": [
  {
   "cell_type": "markdown",
   "metadata": {},
   "source": [
    "# Development Setup"
   ]
  },
  {
   "cell_type": "markdown",
   "metadata": {},
   "source": [
    "Note: this file is mainly used for setting up the dataset for testing purposes. It is NOT for regular use"
   ]
  },
  {
   "cell_type": "markdown",
   "metadata": {},
   "source": [
    "## Remove Excess Files (Dataset)\n",
    "- Mainly used to trim the dataset to less images due to poor computer performance.\n",
    "- Set to 10 default."
   ]
  },
  {
   "cell_type": "code",
   "execution_count": 10,
   "metadata": {},
   "outputs": [],
   "source": [
    "import os, re\n",
    "from imutils import paths # get our paths\n",
    "import ipywidgets as widgets\n",
    "\n",
    "def removeExcessFiles(location, lowerLimit, upperLimit):\n",
    "    count = 0\n",
    "    imagePaths = list(paths.list_images(location))\n",
    "    print(\"Removing images numbered below \" + str(lowerLimit) + \" and over \" + str(upperLimit))\n",
    "    print(\"in \", os.path.abspath(location))\n",
    "    # loop through the entire image path\n",
    "    for imagePath in imagePaths:\n",
    "        # extract name from the paths\n",
    "        name = re.sub('[^0-9]','', imagePath.split(os.path.sep)[2])\n",
    "        print(name) #enable for debugging\n",
    "        if ((int(name) < lowerLimit) or (int(name) > upperLimit)):\n",
    "            os.remove(imagePath)\n",
    "            print(imagePath, \"removed\")\n",
    "            count+=1\n",
    "    print(\"Total images removed: \", count)"
   ]
  },
  {
   "cell_type": "markdown",
   "metadata": {},
   "source": [
    "To trim benchmark data"
   ]
  },
  {
   "cell_type": "code",
   "execution_count": null,
   "metadata": {},
   "outputs": [],
   "source": [
    "removeExcessFiles(\"./dataset/test\", 11, 13)"
   ]
  },
  {
   "cell_type": "markdown",
   "metadata": {},
   "source": [
    "To trim dataset data"
   ]
  },
  {
   "cell_type": "code",
   "execution_count": null,
   "metadata": {},
   "outputs": [],
   "source": [
    "removeExcessFiles(\"dataset-input\", 0, 10)"
   ]
  },
  {
   "cell_type": "markdown",
   "metadata": {},
   "source": [
    "## Split Folders\n",
    "\n",
    "- Used to split data into test & val(idation)"
   ]
  },
  {
   "cell_type": "code",
   "execution_count": 1,
   "metadata": {},
   "outputs": [
    {
     "name": "stderr",
     "output_type": "stream",
     "text": [
      "Copying files: 200 files [00:01, 186.28 files/s]"
     ]
    },
    {
     "name": "stdout",
     "output_type": "stream",
     "text": [
      "Done!\n"
     ]
    },
    {
     "name": "stderr",
     "output_type": "stream",
     "text": [
      "\n"
     ]
    }
   ],
   "source": [
    "import splitfolders\n",
    "\n",
    "train = .8\n",
    "val = .0\n",
    "test = .2\n",
    "\n",
    "splitfolders.ratio('dataset-input', output=\"dataset\", seed=1337, ratio=(train, val, test))\n",
    "print(\"Done!\")"
   ]
  },
  {
   "cell_type": "markdown",
   "metadata": {},
   "source": [
    "## Bulk Resize\n",
    "\n",
    "- Used to resize files in bulk for testing purposes.\n",
    "- NOTE: ONLY png, bmp, jpg, and \"jpeg\" are supported"
   ]
  },
  {
   "cell_type": "code",
   "execution_count": 2,
   "metadata": {},
   "outputs": [],
   "source": [
    "import os\n",
    "import sys\n",
    "from PIL import Image\n",
    "\n",
    "def resize(folder, fileName, setSizes):\n",
    "    filePath = os.path.join(folder, fileName)\n",
    "    im = Image.open(filePath)\n",
    "    originalImgSize = im.size\n",
    "    for size in setSizes:\n",
    "        imgSize = (size, size)\n",
    "        newIm = im.resize(imgSize, Image.BICUBIC)\n",
    "        ## create new\n",
    "        # print(filePath[:-4] + \"_\" + str(size) + \".jpg\")\n",
    "        # newIm.save(filePath[:-4] + \"_\" + str(size) + \".jpg\")\n",
    "        ## overwrite\n",
    "        # print(filePath) # for debugging\n",
    "        newIm.save(filePath)\n",
    "\n",
    "def bulkResize(imageFolder, sizes):\n",
    "    print(os.path.abspath(imageFolder))\n",
    "    imgExts = [\"png\", \"bmp\", \"jpg\"]\n",
    "    for path, dirs, files in os.walk(imageFolder):\n",
    "        for fileName in files:\n",
    "            ext = fileName[-3:].lower()\n",
    "            ext2 = fileName[-4:].lower()\n",
    "            if (ext not in imgExts):\n",
    "                continue\n",
    "            resize(path, fileName, sizes)\n",
    "            print(\"Resized \", fileName)\n",
    "    print(\"[INFO] Done\")"
   ]
  },
  {
   "cell_type": "code",
   "execution_count": 3,
   "metadata": {},
   "outputs": [],
   "source": [
    "import os\n",
    "import sys\n",
    "from PIL import Image\n",
    "\n",
    "def resize(folder, fileName, setSizes):\n",
    "    filePath = os.path.join(folder, fileName)\n",
    "    im = Image.open(filePath)\n",
    "    originalImgSize = im.size\n",
    "    for size in setSizes:\n",
    "        imgSize = (size, size)\n",
    "        newIm = im.resize(imgSize, Image.BICUBIC)\n",
    "        ## create new\n",
    "        # print(filePath[:-4] + \"_\" + str(size) + \".jpg\")\n",
    "        # newIm.save(filePath[:-4] + \"_\" + str(size) + \".jpg\")\n",
    "        ## overwrite\n",
    "        # print(filePath) # for debugging\n",
    "        newIm.save(filePath)\n",
    "\n",
    "def bulkResize(imageFolder, sizes):\n",
    "    print(os.path.abspath(imageFolder))\n",
    "    imgExts = [\"png\", \"bmp\", \"jpg\"]\n",
    "    for path, dirs, files in os.walk(imageFolder):\n",
    "        for fileName in files:\n",
    "            ext = fileName[-3:].lower()\n",
    "            ext2 = fileName[-4:].lower()\n",
    "            if (ext not in imgExts):\n",
    "                continue\n",
    "            resize(path, fileName, sizes)\n",
    "            print(\"Resized \", fileName)\n",
    "    print(\"[INFO] Done\")"
   ]
  },
  {
   "cell_type": "code",
   "execution_count": 10,
   "metadata": {},
   "outputs": [
    {
     "name": "stdout",
     "output_type": "stream",
     "text": [
      "C:\\Users\\mi\\Documents\\face-recognition-low-res\\knn-version\\dataset\\test-25x25\n",
      "Resized  Alejandro_Toledo_0011.jpg\n",
      "Resized  Alejandro_Toledo_0012.jpg\n",
      "Resized  Alejandro_Toledo_0013.jpg\n",
      "Resized  Alvaro_Uribe_0011.jpg\n",
      "Resized  Alvaro_Uribe_0012.jpg\n",
      "Resized  Alvaro_Uribe_0013.jpg\n",
      "Resized  Andre_Agassi_0011.jpg\n",
      "Resized  Andre_Agassi_0012.jpg\n",
      "Resized  Andre_Agassi_0013.jpg\n",
      "Resized  Ariel_Sharon_0011.jpg\n",
      "Resized  Ariel_Sharon_0012.jpg\n",
      "Resized  Ariel_Sharon_0013.jpg\n",
      "Resized  Arnold_Schwarzenegger_0011.jpg\n",
      "Resized  Arnold_Schwarzenegger_0012.jpg\n",
      "Resized  Arnold_Schwarzenegger_0013.jpg\n",
      "Resized  Colin_Powell_0011.jpg\n",
      "Resized  Colin_Powell_0012.jpg\n",
      "Resized  Colin_Powell_0013.jpg\n",
      "Resized  Donald_Rumsfeld_0011.jpg\n",
      "Resized  Donald_Rumsfeld_0012.jpg\n",
      "Resized  Donald_Rumsfeld_0013.jpg\n",
      "Resized  George_W_Bush_0011.jpg\n",
      "Resized  George_W_Bush_0012.jpg\n",
      "Resized  George_W_Bush_0013.jpg\n",
      "Resized  Gerhard_Schroeder_0011.jpg\n",
      "Resized  Gerhard_Schroeder_0012.jpg\n",
      "Resized  Gerhard_Schroeder_0013.jpg\n",
      "Resized  Gloria_Macapagal_Arroyo_0011.jpg\n",
      "Resized  Gloria_Macapagal_Arroyo_0012.jpg\n",
      "Resized  Gloria_Macapagal_Arroyo_0013.jpg\n",
      "Resized  Hans_Blix_0011.jpg\n",
      "Resized  Hans_Blix_0012.jpg\n",
      "Resized  Hans_Blix_0013.jpg\n",
      "Resized  PHOTO_20210409_205150.jpg\n",
      "Resized  PHOTO_20210409_205155.jpg\n",
      "Resized  PHOTO_20210409_205156.jpg\n",
      "Resized  Hugo_Chavez_0011.jpg\n",
      "Resized  Hugo_Chavez_0012.jpg\n",
      "Resized  Hugo_Chavez_0013.jpg\n",
      "Resized  Jacques_Chirac_0011.jpg\n",
      "Resized  Jacques_Chirac_0012.jpg\n",
      "Resized  Jacques_Chirac_0013.jpg\n",
      "Resized  Jean_Chretien_0011.jpg\n",
      "Resized  Jean_Chretien_0012.jpg\n",
      "Resized  Jean_Chretien_0013.jpg\n",
      "Resized  Jennifer_Capriati_0011.jpg\n",
      "Resized  Jennifer_Capriati_0012.jpg\n",
      "Resized  Jennifer_Capriati_0013.jpg\n",
      "Resized  John_Ashcroft_0011.jpg\n",
      "Resized  John_Ashcroft_0012.jpg\n",
      "Resized  John_Ashcroft_0013.jpg\n",
      "Resized  Junichiro_Koizumi_0011.jpg\n",
      "Resized  Junichiro_Koizumi_0012.jpg\n",
      "Resized  Junichiro_Koizumi_0013.jpg\n",
      "Resized  Kofi_Annan_0011.jpg\n",
      "Resized  Kofi_Annan_0012.jpg\n",
      "Resized  Kofi_Annan_0013.jpg\n",
      "Resized  Laura_Bush_0011.jpg\n",
      "Resized  Laura_Bush_0012.jpg\n",
      "Resized  Laura_Bush_0013.jpg\n",
      "Resized  Lleyton_Hewitt_0011.jpg\n",
      "Resized  Lleyton_Hewitt_0012.jpg\n",
      "Resized  Lleyton_Hewitt_0013.jpg\n",
      "Resized  Luiz_Inacio_Lula_da_Silva_0011.jpg\n",
      "Resized  Luiz_Inacio_Lula_da_Silva_0012.jpg\n",
      "Resized  Luiz_Inacio_Lula_da_Silva_0013.jpg\n",
      "Resized  Megawati_Sukarnoputri_0011.jpg\n",
      "Resized  Megawati_Sukarnoputri_0012.jpg\n",
      "Resized  Megawati_Sukarnoputri_0013.jpg\n",
      "Resized  Nestor_Kirchner_0011.jpg\n",
      "Resized  Nestor_Kirchner_0012.jpg\n",
      "Resized  Nestor_Kirchner_0013.jpg\n",
      "Resized  Roh_Moo-hyun_0011.jpg\n",
      "Resized  Roh_Moo-hyun_0012.jpg\n",
      "Resized  Roh_Moo-hyun_0013.jpg\n",
      "Resized  Serena_Williams_0011.jpg\n",
      "Resized  Serena_Williams_0012.jpg\n",
      "Resized  Serena_Williams_0013.jpg\n",
      "Resized  Silvio_Berlusconi_0011.jpg\n",
      "Resized  Silvio_Berlusconi_0012.jpg\n",
      "Resized  Silvio_Berlusconi_0013.jpg\n",
      "Resized  Tom_Ridge_0011.jpg\n",
      "Resized  Tom_Ridge_0012.jpg\n",
      "Resized  Tom_Ridge_0013.jpg\n",
      "Resized  Tony_Blair_0011.jpg\n",
      "Resized  Tony_Blair_0012.jpg\n",
      "Resized  Tony_Blair_0013.jpg\n",
      "Resized  Aaron_Eckhart_A.jpg\n",
      "Resized  Aaron_Guiel_B.jpg\n",
      "Resized  Adriana_Lima_C.jpg\n",
      "Resized  Vicente_Fox_0011.jpg\n",
      "Resized  Vicente_Fox_0012.jpg\n",
      "Resized  Vicente_Fox_0013.jpg\n",
      "Resized  Vladimir_Putin_0011.jpg\n",
      "Resized  Vladimir_Putin_0012.jpg\n",
      "Resized  Vladimir_Putin_0013.jpg\n",
      "[INFO] Done\n"
     ]
    }
   ],
   "source": [
    "bulkResize(\"dataset/test-25x25\", [25])"
   ]
  },
  {
   "cell_type": "code",
   "execution_count": 11,
   "metadata": {},
   "outputs": [
    {
     "name": "stdout",
     "output_type": "stream",
     "text": [
      "C:\\Users\\mi\\Documents\\face-recognition-low-res\\knn-version\\dataset\\test-30x30\n",
      "Resized  Alejandro_Toledo_0011.jpg\n",
      "Resized  Alejandro_Toledo_0012.jpg\n",
      "Resized  Alejandro_Toledo_0013.jpg\n",
      "Resized  Alvaro_Uribe_0011.jpg\n",
      "Resized  Alvaro_Uribe_0012.jpg\n",
      "Resized  Alvaro_Uribe_0013.jpg\n",
      "Resized  Andre_Agassi_0011.jpg\n",
      "Resized  Andre_Agassi_0012.jpg\n",
      "Resized  Andre_Agassi_0013.jpg\n",
      "Resized  Ariel_Sharon_0011.jpg\n",
      "Resized  Ariel_Sharon_0012.jpg\n",
      "Resized  Ariel_Sharon_0013.jpg\n",
      "Resized  Arnold_Schwarzenegger_0011.jpg\n",
      "Resized  Arnold_Schwarzenegger_0012.jpg\n",
      "Resized  Arnold_Schwarzenegger_0013.jpg\n",
      "Resized  Colin_Powell_0011.jpg\n",
      "Resized  Colin_Powell_0012.jpg\n",
      "Resized  Colin_Powell_0013.jpg\n",
      "Resized  Donald_Rumsfeld_0011.jpg\n",
      "Resized  Donald_Rumsfeld_0012.jpg\n",
      "Resized  Donald_Rumsfeld_0013.jpg\n",
      "Resized  George_W_Bush_0011.jpg\n",
      "Resized  George_W_Bush_0012.jpg\n",
      "Resized  George_W_Bush_0013.jpg\n",
      "Resized  Gerhard_Schroeder_0011.jpg\n",
      "Resized  Gerhard_Schroeder_0012.jpg\n",
      "Resized  Gerhard_Schroeder_0013.jpg\n",
      "Resized  Gloria_Macapagal_Arroyo_0011.jpg\n",
      "Resized  Gloria_Macapagal_Arroyo_0012.jpg\n",
      "Resized  Gloria_Macapagal_Arroyo_0013.jpg\n",
      "Resized  Hans_Blix_0011.jpg\n",
      "Resized  Hans_Blix_0012.jpg\n",
      "Resized  Hans_Blix_0013.jpg\n",
      "Resized  PHOTO_20210409_205150.jpg\n",
      "Resized  PHOTO_20210409_205155.jpg\n",
      "Resized  PHOTO_20210409_205156.jpg\n",
      "Resized  Hugo_Chavez_0011.jpg\n",
      "Resized  Hugo_Chavez_0012.jpg\n",
      "Resized  Hugo_Chavez_0013.jpg\n",
      "Resized  Jacques_Chirac_0011.jpg\n",
      "Resized  Jacques_Chirac_0012.jpg\n",
      "Resized  Jacques_Chirac_0013.jpg\n",
      "Resized  Jean_Chretien_0011.jpg\n",
      "Resized  Jean_Chretien_0012.jpg\n",
      "Resized  Jean_Chretien_0013.jpg\n",
      "Resized  Jennifer_Capriati_0011.jpg\n",
      "Resized  Jennifer_Capriati_0012.jpg\n",
      "Resized  Jennifer_Capriati_0013.jpg\n",
      "Resized  John_Ashcroft_0011.jpg\n",
      "Resized  John_Ashcroft_0012.jpg\n",
      "Resized  John_Ashcroft_0013.jpg\n",
      "Resized  Junichiro_Koizumi_0011.jpg\n",
      "Resized  Junichiro_Koizumi_0012.jpg\n",
      "Resized  Junichiro_Koizumi_0013.jpg\n",
      "Resized  Kofi_Annan_0011.jpg\n",
      "Resized  Kofi_Annan_0012.jpg\n",
      "Resized  Kofi_Annan_0013.jpg\n",
      "Resized  Laura_Bush_0011.jpg\n",
      "Resized  Laura_Bush_0012.jpg\n",
      "Resized  Laura_Bush_0013.jpg\n",
      "Resized  Lleyton_Hewitt_0011.jpg\n",
      "Resized  Lleyton_Hewitt_0012.jpg\n",
      "Resized  Lleyton_Hewitt_0013.jpg\n",
      "Resized  Luiz_Inacio_Lula_da_Silva_0011.jpg\n",
      "Resized  Luiz_Inacio_Lula_da_Silva_0012.jpg\n",
      "Resized  Luiz_Inacio_Lula_da_Silva_0013.jpg\n",
      "Resized  Megawati_Sukarnoputri_0011.jpg\n",
      "Resized  Megawati_Sukarnoputri_0012.jpg\n",
      "Resized  Megawati_Sukarnoputri_0013.jpg\n",
      "Resized  Nestor_Kirchner_0011.jpg\n",
      "Resized  Nestor_Kirchner_0012.jpg\n",
      "Resized  Nestor_Kirchner_0013.jpg\n",
      "Resized  Roh_Moo-hyun_0011.jpg\n",
      "Resized  Roh_Moo-hyun_0012.jpg\n",
      "Resized  Roh_Moo-hyun_0013.jpg\n",
      "Resized  Serena_Williams_0011.jpg\n",
      "Resized  Serena_Williams_0012.jpg\n",
      "Resized  Serena_Williams_0013.jpg\n",
      "Resized  Silvio_Berlusconi_0011.jpg\n",
      "Resized  Silvio_Berlusconi_0012.jpg\n",
      "Resized  Silvio_Berlusconi_0013.jpg\n",
      "Resized  Tom_Ridge_0011.jpg\n",
      "Resized  Tom_Ridge_0012.jpg\n",
      "Resized  Tom_Ridge_0013.jpg\n",
      "Resized  Tony_Blair_0011.jpg\n",
      "Resized  Tony_Blair_0012.jpg\n",
      "Resized  Tony_Blair_0013.jpg\n",
      "Resized  Aaron_Eckhart_A.jpg\n",
      "Resized  Aaron_Guiel_B.jpg\n",
      "Resized  Adriana_Lima_C.jpg\n",
      "Resized  Vicente_Fox_0011.jpg\n",
      "Resized  Vicente_Fox_0012.jpg\n",
      "Resized  Vicente_Fox_0013.jpg\n",
      "Resized  Vladimir_Putin_0011.jpg\n",
      "Resized  Vladimir_Putin_0012.jpg\n",
      "Resized  Vladimir_Putin_0013.jpg\n",
      "[INFO] Done\n"
     ]
    }
   ],
   "source": [
    "bulkResize(\"dataset/test-30x30\", [30])"
   ]
  }
 ],
 "metadata": {
  "kernelspec": {
   "display_name": "Python 3 (ipykernel)",
   "language": "python",
   "name": "python3"
  },
  "language_info": {
   "codemirror_mode": {
    "name": "ipython",
    "version": 3
   },
   "file_extension": ".py",
   "mimetype": "text/x-python",
   "name": "python",
   "nbconvert_exporter": "python",
   "pygments_lexer": "ipython3",
   "version": "3.9.5"
  }
 },
 "nbformat": 4,
 "nbformat_minor": 4
}
